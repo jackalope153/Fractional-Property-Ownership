{
 "metadata": {
  "language_info": {
   "codemirror_mode": {
    "name": "ipython",
    "version": 3
   },
   "file_extension": ".py",
   "mimetype": "text/x-python",
   "name": "python",
   "nbconvert_exporter": "python",
   "pygments_lexer": "ipython3",
   "version": "3.7.7-final"
  },
  "orig_nbformat": 2,
  "kernelspec": {
   "name": "python3",
   "display_name": "Python 3.7.7 64-bit ('ethereum': conda)",
   "metadata": {
    "interpreter": {
     "hash": "f0d84743f09ffe651bd802198ebb9a17ec870d79ccb17a1ace435b42edc708af"
    }
   }
  }
 },
 "nbformat": 4,
 "nbformat_minor": 2,
 "cells": [
  {
   "cell_type": "code",
   "execution_count": 5,
   "metadata": {},
   "outputs": [],
   "source": [
    "from web3.auto import w3\n",
    "import requests\n",
    "import json\n",
    "import os\n",
    "from dotenv import load_dotenv\n",
    "from pathlib import Path"
   ]
  },
  {
   "cell_type": "code",
   "execution_count": 6,
   "metadata": {},
   "outputs": [
    {
     "output_type": "stream",
     "name": "stderr",
     "text": [
      "Python-dotenv could not parse statement starting at line 1\n",
      "Python-dotenv could not parse statement starting at line 2\n",
      "Python-dotenv could not parse statement starting at line 3\n",
      "Python-dotenv could not parse statement starting at line 4\n",
      "Python-dotenv could not parse statement starting at line 5\n"
     ]
    }
   ],
   "source": [
    "load_dotenv()\n",
    "\n",
    "def initContract(contract_abi_path: str, contract_address: str):\n",
    "    with open(Path(contract_abi_path)) as json_file:\n",
    "        abi = json.load(json_file)\n",
    "\n",
    "    return w3.eth.contract(address=os.getenv(contract_address), abi=abi)\n",
    "\n",
    "def convertDataToJSON(content: dict):\n",
    "    data = {\n",
    "        \"pinataOptions\": {\"cidVersion\": 1},\n",
    "        \"pinataContent\": content\n",
    "    }\n",
    "    return json.dumps(data)\n",
    "\n",
    "def pinJSONtoIPFS(json):\n",
    "    headers = {\n",
    "        \"Content-Type\": \"application/json\",\n",
    "        \"pinata_api_key\": os.getenv(\"PINATA_API_KEY\"),\n",
    "        \"pinata_secret_api_key\": os.getenv(\"PINATA_SECRET_API_KEY\")\n",
    "    }\n",
    "\n",
    "    r = requests.post(\"https://api.pinata.cloud/pinning/pinJSONToIPFS\", data=json, headers=headers)\n",
    "    # print(r.json())\n",
    "    ipfs_hash = r.json()[\"IpfsHash\"]\n",
    "    return f\"ipfs://{ipfs_hash}\""
   ]
  },
  {
   "cell_type": "code",
   "execution_count": null,
   "metadata": {},
   "outputs": [],
   "source": []
  }
 ]
}
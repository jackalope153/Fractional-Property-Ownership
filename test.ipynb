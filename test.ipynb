{
 "metadata": {
  "language_info": {
   "codemirror_mode": {
    "name": "ipython",
    "version": 3
   },
   "file_extension": ".py",
   "mimetype": "text/x-python",
   "name": "python",
   "nbconvert_exporter": "python",
   "pygments_lexer": "ipython3",
   "version": "3.7.7-final"
  },
  "orig_nbformat": 2,
  "kernelspec": {
   "name": "python3",
   "display_name": "Python 3.7.7 64-bit ('ethereum': conda)",
   "metadata": {
    "interpreter": {
     "hash": "f0d84743f09ffe651bd802198ebb9a17ec870d79ccb17a1ace435b42edc708af"
    }
   }
  }
 },
 "nbformat": 4,
 "nbformat_minor": 2,
 "cells": [
  {
   "source": [
    "# Fractional Property ownership"
   ],
   "cell_type": "markdown",
   "metadata": {}
  },
  {
   "cell_type": "code",
   "execution_count": 1,
   "metadata": {},
   "outputs": [
    {
     "output_type": "stream",
     "name": "stderr",
     "text": [
      "Consider installing rusty-rlp to improve pyrlp performance with a rust based backend\n"
     ]
    }
   ],
   "source": [
    "from web3.auto import w3\n",
    "import requests\n",
    "import json\n",
    "import os\n",
    "from dotenv import load_dotenv\n",
    "from pathlib import Path"
   ]
  },
  {
   "cell_type": "code",
   "execution_count": 2,
   "metadata": {},
   "outputs": [],
   "source": [
    "load_dotenv()\n",
    "\n",
    "def initContract(contract_address: str, contract_abi_path: str):\n",
    "    with open(Path(contract_abi_path)) as json_file:\n",
    "        abi = json.load(json_file)\n",
    "        \n",
    "    if (contract_address.find(\";\") > -1 or contract_address.find(\";\") > -1):\n",
    "        contract_address = contract_address.replace(\";\", \"\").replace(\"'\", \"\")\n",
    "\n",
    "    return w3.eth.contract(address=contract_address, abi=abi)\n",
    "\n",
    "def convertDataToJSON(content: dict):\n",
    "    data = {\n",
    "        \"pinataOptions\": {\"cidVersion\": 1},\n",
    "        \"pinataContent\": content\n",
    "    }\n",
    "    return json.dumps(data)\n",
    "\n",
    "def pinJSONtoIPFS(json):\n",
    "    pinata_api_key = os.getenv(\"PINATA_API_KEY\")\n",
    "\n",
    "    if (pinata_api_key.find(\";\") > -1 or pinata_api_key.find(\";\") > -1):\n",
    "        pinata_api_key = pinata_api_key.replace(\";\", \"\").replace(\"'\", \"\")\n",
    "\n",
    "    pinata_secret_api_key = os.getenv(\"PINATA_SECRET_API_KEY\")\n",
    "\n",
    "    if (pinata_secret_api_key.find(\";\") > -1 or pinata_secret_api_key.find(\";\") > -1):\n",
    "        pinata_secret_api_key = pinata_secret_api_key.replace(\";\", \"\").replace(\"'\", \"\")\n",
    "\n",
    "    headers = {\n",
    "        \"Content-Type\": \"application/json\",\n",
    "        \"pinata_api_key\": pinata_api_key,\n",
    "        \"pinata_secret_api_key\": pinata_secret_api_key\n",
    "    }\n",
    "\n",
    "    r = requests.post(\"https://api.pinata.cloud/pinning/pinJSONToIPFS\", data=json, headers=headers)\n",
    "    # print(r.json())\n",
    "    ipfs_hash = r.json()[\"IpfsHash\"]\n",
    "    return f\"ipfs://{ipfs_hash}\""
   ]
  },
  {
   "cell_type": "code",
   "execution_count": 3,
   "metadata": {},
   "outputs": [],
   "source": [
    "def register_user(user_info: dict):    \n",
    "    wallet = user_info['wallet']        \n",
    "\n",
    "    data = convertDataToJSON(user_info)\n",
    "    user_info_URI = pinJSONtoIPFS(data)\n",
    "    \n",
    "    tx_hash = RegistrationContract.functions.registerUser(wallet, user_info_URI).transact({\n",
    "        \"from\": w3.eth.accounts[0]\n",
    "    })\n",
    "    receipt = w3.eth.waitForTransactionReceipt(tx_hash)    \n",
    "\n",
    "    return receipt  \n",
    "\n",
    "def register_property(property_info: dict):\n",
    "    owner_wallet = property_info['owner_wallet']    \n",
    "\n",
    "    data = convertDataToJSON(property_info)\n",
    "    property_URI = pinJSONtoIPFS(data)\n",
    "    \n",
    "    tx_hash = RegistrationContract.functions.registerProperty(owner_wallet, property_URI).transact({\n",
    "        \"from\": w3.eth.accounts[0]\n",
    "    })\n",
    "    receipt = w3.eth.waitForTransactionReceipt(tx_hash)\n",
    "    # print(receipt)\n",
    "\n",
    "    # processed_receipt = RegistrationContract.events.RegisterProperty().processReceipt(receipt)\n",
    "    # print(processed_receipt)\n",
    "\n",
    "    # output = f\"userID: {processed_receipt[0].args.userID}\"\n",
    "    # print(output)\n",
    "\n",
    "    return receipt\n",
    "\n",
    "def register_property_management(property_management_info: dict):\n",
    "    wallet = property_management_info['wallet'] \n",
    "\n",
    "    data = convertDataToJSON(property_management_info)\n",
    "    property_management_URI = pinJSONtoIPFS(data)\n",
    "\n",
    "    tx_hash = RegistrationContract.functions.registerPropertyManagement(wallet, property_management_URI).transact({\n",
    "        \"from\": w3.eth.accounts[0]\n",
    "    })\n",
    "    receipt = w3.eth.waitForTransactionReceipt(tx_hash)\n",
    "\n",
    "    return receipt            \n",
    "\n",
    "# def buy_token(from_address: str, to_address:str, tokens_to_purchase:int):\n",
    "    # pass\n",
    "\n",
    "# def get_balance(address):\n",
    "    # pass"
   ]
  },
  {
   "source": [
    "## Init. smart contracts"
   ],
   "cell_type": "markdown",
   "metadata": {}
  },
  {
   "cell_type": "code",
   "execution_count": 4,
   "metadata": {},
   "outputs": [],
   "source": [
    "RegistrationContract = initContract(os.getenv('REGISTRATION_CONTRACT_ADDRESS'), \"./contracts/registration_contract_abi.json\")"
   ]
  },
  {
   "source": [
    "## Register owner for a property"
   ],
   "cell_type": "markdown",
   "metadata": {}
  },
  {
   "cell_type": "code",
   "execution_count": 5,
   "metadata": {},
   "outputs": [
    {
     "output_type": "execute_result",
     "data": {
      "text/plain": [
       "AttributeDict({'transactionHash': HexBytes('0x5e69d530fc4fb7afa69cbaa0797e21b8815ae33d37d949e1354f21634fe4696a'),\n",
       " 'transactionIndex': 0,\n",
       " 'blockHash': HexBytes('0xe16c913524c8d59594911c6381de598c6d24efc3705803b8bfa7cbfdfa63de2b'),\n",
       " 'blockNumber': 31,\n",
       " 'from': '0xDFFc2C9a8F9408B7Fd9D3998cf6c3f6b1cB9b520',\n",
       " 'to': '0xd8b934580fcE35a11B58C6D73aDeE468a2833fa8',\n",
       " 'gasUsed': 22888,\n",
       " 'cumulativeGasUsed': 22888,\n",
       " 'contractAddress': None,\n",
       " 'logs': [],\n",
       " 'status': 1,\n",
       " 'logsBloom': HexBytes('0x00000000000000000000000000000000000000000000000000000000000000000000000000000000000000000000000000000000000000000000000000000000000000000000000000000000000000000000000000000000000000000000000000000000000000000000000000000000000000000000000000000000000000000000000000000000000000000000000000000000000000000000000000000000000000000000000000000000000000000000000000000000000000000000000000000000000000000000000000000000000000000000000000000000000000000000000000000000000000000000000000000000000000000000000000000000')})"
      ]
     },
     "metadata": {},
     "execution_count": 5
    }
   ],
   "source": [
    "owner_full_name = input(\"Please enter the owner's full name: \")    \n",
    "owner_wallet = input(\"Please enter the owner's wallet address: \")\n",
    "\n",
    "register_user(\n",
    "    user_info={\n",
    "        \"wallet\": owner_wallet, \n",
    "        \"full_name\": owner_full_name    \n",
    "    }) "
   ]
  },
  {
   "source": [
    "## Register Investor 1"
   ],
   "cell_type": "markdown",
   "metadata": {}
  },
  {
   "cell_type": "code",
   "execution_count": null,
   "metadata": {},
   "outputs": [],
   "source": [
    "investor1_full_name = input(\"Please enter the first investor's full name: \")    \n",
    "investor1_wallet = input(\"Please enter the first investor's wallet address: \")\n",
    "\n",
    "register_user(\n",
    "    user_info={\n",
    "        \"wallet\": investor1_wallet, \n",
    "        \"full_name\": investor1_full_name    \n",
    "    })"
   ]
  },
  {
   "source": [
    "## Register Investor 2"
   ],
   "cell_type": "markdown",
   "metadata": {}
  },
  {
   "cell_type": "code",
   "execution_count": null,
   "metadata": {},
   "outputs": [],
   "source": [
    "investor2_full_name = input(\"Please enter the second investor's full name: \")    \n",
    "investor2_wallet = input(\"Please enter the second investor's wallet address: \")\n",
    "\n",
    "register_user(        \n",
    "    user_info={\n",
    "        \"wallet\": investor2_wallet, \n",
    "        \"full_name\": investor2_full_name    \n",
    "    })"
   ]
  },
  {
   "source": [
    "## Register Investor 3"
   ],
   "cell_type": "markdown",
   "metadata": {}
  },
  {
   "cell_type": "code",
   "execution_count": null,
   "metadata": {},
   "outputs": [],
   "source": [
    "investor3_full_name = input(\"Please enter the third investor's full name: \")    \n",
    "investor3_wallet = input(\"Please enter the third investor's wallet address: \")\n",
    "\n",
    "register_user(        \n",
    "    user_info={\n",
    "        \"wallet\": investor3_wallet, \n",
    "        \"full_name\": investor3_full_name    \n",
    "    })   "
   ]
  },
  {
   "source": [
    "## Register property (from the above owner)"
   ],
   "cell_type": "markdown",
   "metadata": {}
  },
  {
   "cell_type": "code",
   "execution_count": null,
   "metadata": {},
   "outputs": [],
   "source": [
    "property_street_address = input(\"Please enter the property's street address: \")\n",
    "property_city = input(\"Please enter the property's city: \")\n",
    "property_state = input(\"Please enter the property's state: \")    \n",
    "property_zip_code = input(\"Please enter the property's zip code: \")\n",
    "property_validation_id = input(\"Please enter the property's validation id: \")    \n",
    "property_price = input(\"Please enter the property's selling price: \")    \n",
    "property_minted_tokens = input(\"Please enter the number of token to be minted for the property: \")    \n",
    "property_auction_date = input(\"Please enter the auction date: \")\n",
    "\n",
    "property_id = register_property(                \n",
    "    property_info={\n",
    "        \"owner_wallet\": owner_wallet, \n",
    "        \"address\": {\n",
    "            \"street_address\": property_street_address,\n",
    "            \"city\": property_city,\n",
    "            \"state\": property_state,\n",
    "            \"zip_code\": property_zip_code\n",
    "        },\n",
    "        \"auction_date\": property_auction_date,\n",
    "        \"price\": property_price,\n",
    "        \"minted_tokens\": property_minted_tokens,\n",
    "        \"validation_id\": property_validation_id\n",
    "    })"
   ]
  },
  {
   "source": [
    "## Investor 1 buys tokens for property"
   ],
   "cell_type": "markdown",
   "metadata": {}
  },
  {
   "cell_type": "code",
   "execution_count": null,
   "metadata": {},
   "outputs": [],
   "source": [
    "# buy_token(from: 'owner_wallet', to: 'address', amt_of_token:0)"
   ]
  },
  {
   "source": [
    "## Investor 2 buys tokens for property"
   ],
   "cell_type": "markdown",
   "metadata": {}
  },
  {
   "cell_type": "code",
   "execution_count": null,
   "metadata": {},
   "outputs": [],
   "source": [
    "# buy_token(from: 'owner_wallet', to: 'address', amt_of_token:0)"
   ]
  },
  {
   "source": [
    "## Investor 3 buys tokens for property"
   ],
   "cell_type": "markdown",
   "metadata": {}
  },
  {
   "cell_type": "code",
   "execution_count": null,
   "metadata": {},
   "outputs": [],
   "source": [
    "# buy_token(from: 'owner_wallet', to: 'address', amt_of_token:0)"
   ]
  },
  {
   "source": [
    "## Investor 1 gets balance of token purchased"
   ],
   "cell_type": "markdown",
   "metadata": {}
  },
  {
   "cell_type": "code",
   "execution_count": 16,
   "metadata": {},
   "outputs": [],
   "source": [
    "# get_balance(address)"
   ]
  },
  {
   "source": [
    "## Investor 2 gets balance of token purchased"
   ],
   "cell_type": "markdown",
   "metadata": {}
  },
  {
   "cell_type": "code",
   "execution_count": 31,
   "metadata": {},
   "outputs": [],
   "source": [
    "# get_balance(address)"
   ]
  },
  {
   "source": [
    "## Investor 3 gets balance of token purchased"
   ],
   "cell_type": "markdown",
   "metadata": {}
  },
  {
   "cell_type": "code",
   "execution_count": 32,
   "metadata": {},
   "outputs": [],
   "source": [
    "# get_balance(address)"
   ]
  },
  {
   "source": [
    "## Pay rent"
   ],
   "cell_type": "markdown",
   "metadata": {}
  },
  {
   "cell_type": "code",
   "execution_count": 19,
   "metadata": {},
   "outputs": [],
   "source": [
    "# Add user (renter)\n",
    "# transfer tokens from renter to property's wallet"
   ]
  },
  {
   "source": [
    "## Distribute profits from rent paid"
   ],
   "cell_type": "markdown",
   "metadata": {}
  },
  {
   "cell_type": "code",
   "execution_count": null,
   "metadata": {},
   "outputs": [],
   "source": [
    "# profit splitter is executed on the property's wallet and distribute investor based on tokens purchased. "
   ]
  }
 ]
}
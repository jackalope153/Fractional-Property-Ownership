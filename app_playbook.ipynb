{
 "metadata": {
  "language_info": {
   "codemirror_mode": {
    "name": "ipython",
    "version": 3
   },
   "file_extension": ".py",
   "mimetype": "text/x-python",
   "name": "python",
   "nbconvert_exporter": "python",
   "pygments_lexer": "ipython3",
   "version": "3.7.7-final"
  },
  "orig_nbformat": 2,
  "kernelspec": {
   "name": "python3",
   "display_name": "Python 3.7.7 64-bit ('ethereum': conda)",
   "metadata": {
    "interpreter": {
     "hash": "f0d84743f09ffe651bd802198ebb9a17ec870d79ccb17a1ace435b42edc708af"
    }
   }
  }
 },
 "nbformat": 4,
 "nbformat_minor": 2,
 "cells": [
  {
   "source": [
    "# Fractional Property Ownership"
   ],
   "cell_type": "markdown",
   "metadata": {}
  },
  {
   "cell_type": "code",
   "execution_count": 1,
   "metadata": {},
   "outputs": [
    {
     "output_type": "stream",
     "name": "stderr",
     "text": [
      "Consider installing rusty-rlp to improve pyrlp performance with a rust based backend\n"
     ]
    }
   ],
   "source": [
    "from datetime import date\n",
    "from datetime import timedelta\n",
    "from registration_contract import *\n",
    "from property_crowdsale_contract import *"
   ]
  },
  {
   "source": [
    "## Register owner for a property"
   ],
   "cell_type": "markdown",
   "metadata": {}
  },
  {
   "cell_type": "code",
   "execution_count": 2,
   "metadata": {},
   "outputs": [
    {
     "output_type": "execute_result",
     "data": {
      "text/plain": [
       "AttributeDict({'transactionHash': HexBytes('0xcd71a6f351fbb92e31591829ed97bf117b8b259cb0d99418526aa011b93c044b'),\n",
       " 'transactionIndex': 0,\n",
       " 'blockHash': HexBytes('0x6e8baa51a6e861e1eb4f6c73dd889fca51292d8420c2975b9426da0a74482ede'),\n",
       " 'blockNumber': 49,\n",
       " 'from': '0xDFFc2C9a8F9408B7Fd9D3998cf6c3f6b1cB9b520',\n",
       " 'to': '0xf8e81D47203A594245E36C48e151709F0C19fBe8',\n",
       " 'gasUsed': 22888,\n",
       " 'cumulativeGasUsed': 22888,\n",
       " 'contractAddress': None,\n",
       " 'logs': [],\n",
       " 'status': 1,\n",
       " 'logsBloom': HexBytes('0x00000000000000000000000000000000000000000000000000000000000000000000000000000000000000000000000000000000000000000000000000000000000000000000000000000000000000000000000000000000000000000000000000000000000000000000000000000000000000000000000000000000000000000000000000000000000000000000000000000000000000000000000000000000000000000000000000000000000000000000000000000000000000000000000000000000000000000000000000000000000000000000000000000000000000000000000000000000000000000000000000000000000000000000000000000000')})"
      ]
     },
     "metadata": {},
     "execution_count": 2
    }
   ],
   "source": [
    "owner_full_name = input(\"Please enter the owner's full name: \")    \n",
    "owner_wallet = input(\"Please enter the owner's wallet address: \")\n",
    "\n",
    "register_user(\n",
    "    user_info={\n",
    "        \"wallet\": owner_wallet, \n",
    "        \"full_name\": owner_full_name    \n",
    "    }) "
   ]
  },
  {
   "source": [
    "## Register Investor 1"
   ],
   "cell_type": "markdown",
   "metadata": {}
  },
  {
   "cell_type": "code",
   "execution_count": 3,
   "metadata": {},
   "outputs": [
    {
     "output_type": "execute_result",
     "data": {
      "text/plain": [
       "AttributeDict({'transactionHash': HexBytes('0x3238dd20527fe8894ff55c913fdff5f722a7e0870685a92316886010f0a49ec2'),\n",
       " 'transactionIndex': 0,\n",
       " 'blockHash': HexBytes('0xb5e2aec6540a14623c95838f1a8f8bc5a99ad7bf79b28f8f7440c2995333d840'),\n",
       " 'blockNumber': 50,\n",
       " 'from': '0xDFFc2C9a8F9408B7Fd9D3998cf6c3f6b1cB9b520',\n",
       " 'to': '0xf8e81D47203A594245E36C48e151709F0C19fBe8',\n",
       " 'gasUsed': 22888,\n",
       " 'cumulativeGasUsed': 22888,\n",
       " 'contractAddress': None,\n",
       " 'logs': [],\n",
       " 'status': 1,\n",
       " 'logsBloom': HexBytes('0x00000000000000000000000000000000000000000000000000000000000000000000000000000000000000000000000000000000000000000000000000000000000000000000000000000000000000000000000000000000000000000000000000000000000000000000000000000000000000000000000000000000000000000000000000000000000000000000000000000000000000000000000000000000000000000000000000000000000000000000000000000000000000000000000000000000000000000000000000000000000000000000000000000000000000000000000000000000000000000000000000000000000000000000000000000000')})"
      ]
     },
     "metadata": {},
     "execution_count": 3
    }
   ],
   "source": [
    "investor1_full_name = input(\"Please enter the first investor's full name: \")    \n",
    "investor1_wallet = input(\"Please enter the first investor's wallet address: \")\n",
    "\n",
    "register_user(\n",
    "    user_info={\n",
    "        \"wallet\": investor1_wallet, \n",
    "        \"full_name\": investor1_full_name    \n",
    "    })"
   ]
  },
  {
   "source": [
    "## Register Investor 2"
   ],
   "cell_type": "markdown",
   "metadata": {}
  },
  {
   "cell_type": "code",
   "execution_count": 4,
   "metadata": {},
   "outputs": [
    {
     "output_type": "execute_result",
     "data": {
      "text/plain": [
       "AttributeDict({'transactionHash': HexBytes('0x32d53e74f1f65b26e406d505a00ac921e03290342ac00e98190eba2920f189ea'),\n",
       " 'transactionIndex': 0,\n",
       " 'blockHash': HexBytes('0x1bf9411495b0e00f6a3c7e9640e17db5be88e5a69202736c5440d944fad644ff'),\n",
       " 'blockNumber': 51,\n",
       " 'from': '0xDFFc2C9a8F9408B7Fd9D3998cf6c3f6b1cB9b520',\n",
       " 'to': '0xf8e81D47203A594245E36C48e151709F0C19fBe8',\n",
       " 'gasUsed': 22888,\n",
       " 'cumulativeGasUsed': 22888,\n",
       " 'contractAddress': None,\n",
       " 'logs': [],\n",
       " 'status': 1,\n",
       " 'logsBloom': HexBytes('0x00000000000000000000000000000000000000000000000000000000000000000000000000000000000000000000000000000000000000000000000000000000000000000000000000000000000000000000000000000000000000000000000000000000000000000000000000000000000000000000000000000000000000000000000000000000000000000000000000000000000000000000000000000000000000000000000000000000000000000000000000000000000000000000000000000000000000000000000000000000000000000000000000000000000000000000000000000000000000000000000000000000000000000000000000000000')})"
      ]
     },
     "metadata": {},
     "execution_count": 4
    }
   ],
   "source": [
    "investor2_full_name = input(\"Please enter the second investor's full name: \")    \n",
    "investor2_wallet = input(\"Please enter the second investor's wallet address: \")\n",
    "\n",
    "register_user(        \n",
    "    user_info={\n",
    "        \"wallet\": investor2_wallet, \n",
    "        \"full_name\": investor2_full_name    \n",
    "    })"
   ]
  },
  {
   "source": [
    "## Register a property manager"
   ],
   "cell_type": "markdown",
   "metadata": {}
  },
  {
   "cell_type": "code",
   "execution_count": 5,
   "metadata": {},
   "outputs": [
    {
     "output_type": "execute_result",
     "data": {
      "text/plain": [
       "AttributeDict({'transactionHash': HexBytes('0x21a27c7886f9883cb3361c3d7084ae347e906f284065fee8bddc055f476126e0'),\n",
       " 'transactionIndex': 0,\n",
       " 'blockHash': HexBytes('0xbd3d732ed490e96a1c706696e0a8ccbb2ffc99498cdd6b7f605ac79185016925'),\n",
       " 'blockNumber': 52,\n",
       " 'from': '0xDFFc2C9a8F9408B7Fd9D3998cf6c3f6b1cB9b520',\n",
       " 'to': '0xf8e81D47203A594245E36C48e151709F0C19fBe8',\n",
       " 'gasUsed': 22888,\n",
       " 'cumulativeGasUsed': 22888,\n",
       " 'contractAddress': None,\n",
       " 'logs': [],\n",
       " 'status': 1,\n",
       " 'logsBloom': HexBytes('0x00000000000000000000000000000000000000000000000000000000000000000000000000000000000000000000000000000000000000000000000000000000000000000000000000000000000000000000000000000000000000000000000000000000000000000000000000000000000000000000000000000000000000000000000000000000000000000000000000000000000000000000000000000000000000000000000000000000000000000000000000000000000000000000000000000000000000000000000000000000000000000000000000000000000000000000000000000000000000000000000000000000000000000000000000000000')})"
      ]
     },
     "metadata": {},
     "execution_count": 5
    }
   ],
   "source": [
    "property_manager_company_name = input(\"Please enter the property manager company name: \")    \n",
    "property_manager_wallet = input(\"Please enter the property manager wallet address: \")\n",
    "\n",
    "register_property_management(        \n",
    "    property_management_info={\n",
    "        \"wallet\": property_manager_wallet, \n",
    "        \"full_name\": property_manager_company_name    \n",
    "    })"
   ]
  },
  {
   "source": [
    "## Register a renter"
   ],
   "cell_type": "markdown",
   "metadata": {}
  },
  {
   "cell_type": "code",
   "execution_count": 6,
   "metadata": {},
   "outputs": [
    {
     "output_type": "execute_result",
     "data": {
      "text/plain": [
       "AttributeDict({'transactionHash': HexBytes('0x3c0b3f3d2789d087ab8a94b8fea4879cc5766698ab0abf130aec80424a1d31ed'),\n",
       " 'transactionIndex': 0,\n",
       " 'blockHash': HexBytes('0xc16db02acc5fab9ec54dbd18d68d2229c46950ff61980d440deda9fd57ad5a3d'),\n",
       " 'blockNumber': 53,\n",
       " 'from': '0xDFFc2C9a8F9408B7Fd9D3998cf6c3f6b1cB9b520',\n",
       " 'to': '0xf8e81D47203A594245E36C48e151709F0C19fBe8',\n",
       " 'gasUsed': 22888,\n",
       " 'cumulativeGasUsed': 22888,\n",
       " 'contractAddress': None,\n",
       " 'logs': [],\n",
       " 'status': 1,\n",
       " 'logsBloom': HexBytes('0x00000000000000000000000000000000000000000000000000000000000000000000000000000000000000000000000000000000000000000000000000000000000000000000000000000000000000000000000000000000000000000000000000000000000000000000000000000000000000000000000000000000000000000000000000000000000000000000000000000000000000000000000000000000000000000000000000000000000000000000000000000000000000000000000000000000000000000000000000000000000000000000000000000000000000000000000000000000000000000000000000000000000000000000000000000000')})"
      ]
     },
     "metadata": {},
     "execution_count": 6
    }
   ],
   "source": [
    "renter_full_name = input(\"Please enter the renter's full name: \")    \n",
    "renter_wallet = input(\"Please enter the renter's wallet address: \")\n",
    "\n",
    "register_user(        \n",
    "    user_info={\n",
    "        \"wallet\": renter_wallet, \n",
    "        \"full_name\": renter_full_name\n",
    "    })"
   ]
  },
  {
   "source": [
    "## Register new property (using the above owner)"
   ],
   "cell_type": "markdown",
   "metadata": {}
  },
  {
   "cell_type": "code",
   "execution_count": 8,
   "metadata": {},
   "outputs": [
    {
     "output_type": "stream",
     "name": "stdout",
     "text": [
      "ipfs://bafkreigaldorexg6ztyykzp7kb335ajmi4zjikbiwsbip7vv5cxqkquvou\n"
     ]
    }
   ],
   "source": [
    "property_validation_id = input(\"Please enter the property's validation id: \")    \n",
    "property_street_address = input(\"Please enter the property's street address: \")\n",
    "property_city = input(\"Please enter the property's city: \")\n",
    "property_state = input(\"Please enter the property's state: \")    \n",
    "property_zip_code = input(\"Please enter the property's zip code: \")\n",
    "property_price = input(\"Please enter the property's selling price: \")   \n",
    "\n",
    "property_URI = register_property(\n",
    "    property_info={\n",
    "        \"owner_wallet\": owner_wallet, \n",
    "        \"validation_id\": property_validation_id,\n",
    "        \"address\": {\n",
    "            \"street_address\": property_street_address,\n",
    "            \"city\": property_city,\n",
    "            \"state\": property_state,\n",
    "            \"zip_code\": property_zip_code\n",
    "        },\n",
    "        \"price\": property_price,\n",
    "        \"minted_tokens\": 100,        \n",
    "        \"auction_start_date\": str(date.today()),\n",
    "        \"auction_end_date\": str(date.today() + timedelta(days=90)),\n",
    "        \"image\": \"https://gateway.pinata.cloud/ipfs/QmQ64DgxCuce3whbRYGWHeLidgaNf4YqgBhmEmn7YT5W5d\"\n",
    "    })\n",
    "\n",
    "print(property_URI)"
   ]
  },
  {
   "source": [
    "## Show property info from IPFS and an image of the property"
   ],
   "cell_type": "markdown",
   "metadata": {}
  },
  {
   "cell_type": "code",
   "execution_count": null,
   "metadata": {},
   "outputs": [],
   "source": [
    "print(property_URI)"
   ]
  },
  {
   "cell_type": "code",
   "execution_count": null,
   "metadata": {},
   "outputs": [],
   "source": [
    "image = property_URI['image']\n",
    "\n",
    "from IPython.display import Image\n",
    "from IPython.core.display import HTML \n",
    "Image(url=image)\\"
   ]
  },
  {
   "source": [
    "## Investor 1 buys tokens for property"
   ],
   "cell_type": "markdown",
   "metadata": {}
  },
  {
   "cell_type": "code",
   "execution_count": 9,
   "metadata": {},
   "outputs": [
    {
     "output_type": "execute_result",
     "data": {
      "text/plain": [
       "AttributeDict({'transactionHash': HexBytes('0x32b00ac45e0422a661638ffffc3fc6a79ad865a98fc027dc5f86d965c5d96e3a'),\n",
       " 'transactionIndex': 0,\n",
       " 'blockHash': HexBytes('0x86a535f14418f48ef06dc4de66c5a9f358434438041e646cca3faace5f750970'),\n",
       " 'blockNumber': 56,\n",
       " 'from': '0xDFFc2C9a8F9408B7Fd9D3998cf6c3f6b1cB9b520',\n",
       " 'to': '0xC00fE422c15e66862b30B4D65ba284584dA821E2',\n",
       " 'gasUsed': 21432,\n",
       " 'cumulativeGasUsed': 21432,\n",
       " 'contractAddress': None,\n",
       " 'logs': [],\n",
       " 'status': 1,\n",
       " 'logsBloom': HexBytes('0x00000000000000000000000000000000000000000000000000000000000000000000000000000000000000000000000000000000000000000000000000000000000000000000000000000000000000000000000000000000000000000000000000000000000000000000000000000000000000000000000000000000000000000000000000000000000000000000000000000000000000000000000000000000000000000000000000000000000000000000000000000000000000000000000000000000000000000000000000000000000000000000000000000000000000000000000000000000000000000000000000000000000000000000000000000000')})"
      ]
     },
     "metadata": {},
     "execution_count": 9
    }
   ],
   "source": [
    "investor1_tokens = input(\"Please enter the number of tokens you would like to purchase: \")   \n",
    "\n",
    "buyTokens(address=investor1_wallet, amount=int(investor1_tokens))"
   ]
  },
  {
   "source": [
    "## Investor 2 buys tokens for property"
   ],
   "cell_type": "markdown",
   "metadata": {}
  },
  {
   "cell_type": "code",
   "execution_count": 10,
   "metadata": {},
   "outputs": [
    {
     "output_type": "execute_result",
     "data": {
      "text/plain": [
       "AttributeDict({'transactionHash': HexBytes('0xf41dfd13d277c14d5bb1f6395d595e3ee6ddf0da36202c2ec6dd5e87fdfa8033'),\n",
       " 'transactionIndex': 0,\n",
       " 'blockHash': HexBytes('0x1bfab779da7f90718fc84705f4b8f88a87772a0d2497a01ac8a7f2e17bb40b42'),\n",
       " 'blockNumber': 57,\n",
       " 'from': '0xDFFc2C9a8F9408B7Fd9D3998cf6c3f6b1cB9b520',\n",
       " 'to': '0xC00fE422c15e66862b30B4D65ba284584dA821E2',\n",
       " 'gasUsed': 21432,\n",
       " 'cumulativeGasUsed': 21432,\n",
       " 'contractAddress': None,\n",
       " 'logs': [],\n",
       " 'status': 1,\n",
       " 'logsBloom': HexBytes('0x00000000000000000000000000000000000000000000000000000000000000000000000000000000000000000000000000000000000000000000000000000000000000000000000000000000000000000000000000000000000000000000000000000000000000000000000000000000000000000000000000000000000000000000000000000000000000000000000000000000000000000000000000000000000000000000000000000000000000000000000000000000000000000000000000000000000000000000000000000000000000000000000000000000000000000000000000000000000000000000000000000000000000000000000000000000')})"
      ]
     },
     "metadata": {},
     "execution_count": 10
    }
   ],
   "source": [
    "investor2_tokens = input(\"Please enter the number of tokens you would like to purchase: \")   \n",
    "\n",
    "buyTokens(address=investor2_wallet, amount=int(investor2_tokens))"
   ]
  },
  {
   "source": [
    "## Investor 1 gets balance of token purchased"
   ],
   "cell_type": "markdown",
   "metadata": {}
  },
  {
   "cell_type": "code",
   "execution_count": 12,
   "metadata": {},
   "outputs": [],
   "source": [
    "# getBalance(investor1_wallet)"
   ]
  },
  {
   "source": [
    "## Investor 2 gets balance of token purchased"
   ],
   "cell_type": "markdown",
   "metadata": {}
  },
  {
   "cell_type": "code",
   "execution_count": 31,
   "metadata": {},
   "outputs": [],
   "source": [
    "getBalance(investor2_wallet)"
   ]
  },
  {
   "source": [
    "## Renter pays rent"
   ],
   "cell_type": "markdown",
   "metadata": {}
  },
  {
   "cell_type": "code",
   "execution_count": 19,
   "metadata": {},
   "outputs": [],
   "source": [
    "rent = input(\"Please enter the amount to be paid for the rent: \")\n",
    "\n",
    "payRent(transaction={\n",
    "        'from_address': renter_wallet, \n",
    "        'to_address': property_manager_wallet,\n",
    "        'rent_amount': rent\n",
    "    })"
   ]
  },
  {
   "source": [
    "## Get the balance of Investor 1"
   ],
   "cell_type": "markdown",
   "metadata": {}
  },
  {
   "cell_type": "code",
   "execution_count": null,
   "metadata": {},
   "outputs": [],
   "source": [
    "investor1_balance = getETHBalance(investor1_wallet)\n",
    "\n",
    "print(investor1_balance)"
   ]
  },
  {
   "source": [
    "## Distribute profits from rent paid"
   ],
   "cell_type": "markdown",
   "metadata": {}
  },
  {
   "cell_type": "code",
   "execution_count": 14,
   "metadata": {},
   "outputs": [],
   "source": [
    "investor_list = [investor1_wallet, investor2_wallet]\n",
    "investor_share_amount = [investor1_tokens, investor2_tokens]\n",
    "\n",
    "DeployPaymentSplitterContract(investor_list, investor_share_amount, rent)"
   ]
  }
 ]
}